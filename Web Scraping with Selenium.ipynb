{
 "cells": [
  {
   "cell_type": "markdown",
   "id": "1089349f-be43-4835-a80c-dbe82a4a3076",
   "metadata": {},
   "source": [
    "## Web Scraping with Selenium\n",
    "\n",
    "Import and load the necessary packages for web scraping with selenium. "
   ]
  },
  {
   "cell_type": "code",
   "execution_count": 16,
   "id": "cff10990",
   "metadata": {},
   "outputs": [],
   "source": [
    "## Libaries \n",
    "import selenium \n",
    "from selenium import webdriver\n",
    "from selenium.webdriver.chrome.service import Service\n",
    "from selenium.webdriver.common.by import By\n",
    "from selenium.webdriver.common.keys import Keys\n",
    "import time "
   ]
  },
  {
   "cell_type": "markdown",
   "id": "483781bb-1984-4378-ba6c-e404f05f5228",
   "metadata": {},
   "source": [
    "### Simple Google Search \n",
    "Utilizing selenium we will navigate to the Google webpage and do a search for \"Askew\"\n",
    "- We will use pauses between steps to reduce the risk of being kicked from the desired webpage\n",
    "- We will have an extended pause to look at the page, 20 seconds, before quitting the page"
   ]
  },
  {
   "cell_type": "code",
   "execution_count": 17,
   "id": "eb094a9a",
   "metadata": {},
   "outputs": [],
   "source": [
    "## Driver \n",
    "driver = webdriver.Chrome()  \n",
    "\n",
    "## Fullscreen \n",
    "driver.maximize_window()  \n",
    "\n",
    "## Navigate to website\n",
    "driver.get(\"https://www.google.com\") \n",
    "\n",
    "time.sleep(5) # 5 seconds pause\n",
    "\n",
    "## Identify the search bar \n",
    "input = driver.find_element(By.CSS_SELECTOR, 'textarea[title=\"Search\"]') \n",
    "\n",
    "time.sleep(5) # 5 second pause\n",
    "\n",
    "## type \"Askew\" into the search bar\n",
    "input.send_keys(\"Askew\") \n",
    "\n",
    "time.sleep(5) # 5 second pause\n",
    "\n",
    "## \"Click\" Enter, send keys\n",
    "input.send_keys(Keys.ENTER) \n",
    "\n",
    "## Extended pause before quitting \n",
    "time.sleep(20) # 20 second pause\n",
    "\n",
    "## Quit once complete\n",
    "driver.quit()"
   ]
  },
  {
   "cell_type": "code",
   "execution_count": 19,
   "id": "97622d01",
   "metadata": {},
   "outputs": [],
   "source": [
    "## Driver\n",
    "driver = webdriver.Chrome()\n",
    "\n",
    "## Fullscreen \n",
    "driver.maximize_window() \n",
    "\n",
    "## Desired Website\n",
    "driver.get(\"https://www.google.com\") \n",
    "\n",
    "time.sleep(5) # 5 seconds pause\n",
    "\n",
    "## Identify Search Bar\n",
    "input = driver.find_element(By.CSS_SELECTOR, 'textarea[title=\"Search\"]') \n",
    "\n",
    "time.sleep(5) # 5 second pause\n",
    "\n",
    "## Type \"Google in 1998\" into the search bar\n",
    "input.send_keys(\"Google in 1998\") \n",
    "\n",
    "time.sleep(5) # 5 second pause\n",
    "\n",
    "## \"Click\" Enter, send keys\n",
    "input.send_keys(Keys.ENTER) \n",
    "\n",
    "## Take some time to look at the page, extended pause\n",
    "time.sleep(20) # 20 second pause\n",
    "\n",
    "## Quit\n",
    "driver.quit() "
   ]
  },
  {
   "cell_type": "markdown",
   "id": "bbe25e20",
   "metadata": {},
   "source": [
    "## Write a script \n",
    "\n",
    "1. Go to bestbuy.com,\n",
    "2. click on Deal of the Day,\n",
    "3. read how much time is left for the Deal of the Day and print the remaining time to screen (console),\n",
    "4. click on the Deal of the Day (the actual product),\n",
    "5. click on its reviews, and\n",
    "6. saves the resulting HTML to your local hard drive as \"bestbuy_deal_of_the_day.htm\".\n",
    "\n"
   ]
  },
  {
   "cell_type": "code",
   "execution_count": 40,
   "id": "408c0033",
   "metadata": {},
   "outputs": [
    {
     "name": "stdout",
     "output_type": "stream",
     "text": [
      "How much time is left: 22:22:22\n"
     ]
    }
   ],
   "source": [
    "## Driver\n",
    "driver = webdriver.Chrome() \n",
    "\n",
    "## Fullscreen\n",
    "driver.maximize_window()  \n",
    "\n",
    "## Desired Website\n",
    "driver.get(\"https://www.bestbuy.com\") \n",
    "\n",
    "time.sleep(5) # 5 seconds pause\n",
    "\n",
    "## Desired Element to click on\n",
    "input = driver.find_element(By.CSS_SELECTOR, 'a.bottom-left-links[data-lid=\"hdr_dotd\"]') \n",
    "\n",
    "input.click() # Click\n",
    "\n",
    "## Find the Hour, Minute, and Second\n",
    "Hour = driver.find_element(By.XPATH, '//span[@class=\"hours cdnumber\"]')    # Hour\n",
    "Minute = driver.find_element(By.XPATH, '//span[@class=\"hours cdnumber\"]')  # Minute \n",
    "Second = driver.find_element(By.XPATH, '//span[@class=\"hours cdnumber\"]')  # Second\n",
    "\n",
    "## Print Results\n",
    "print(f\"How much time is left: {Hour.text}:{Minute.text}:{Second.text}\") \n",
    "\n",
    "time.sleep(5) # 5 second pause\n",
    "\n",
    "## Desired Element to click on\n",
    "input = driver.find_element(By.CLASS_NAME, 'wf-offer-link') # Deal item \n",
    "\n",
    "input.click() # Click\n",
    "\n",
    "time.sleep(5) # 5 second pause\n",
    "\n",
    "## Desired Element to click on\n",
    "input = driver.find_element(By.CLASS_NAME, 'c-reviews.order-2') # Reviews \n",
    "\n",
    "input.click() # Click\n",
    "\n",
    "time.sleep(5) # 5 second pause\n",
    "\n",
    "deal = driver.page_source # Page Source\n",
    "\n",
    "time.sleep(5) # 5 second pause\n",
    "\n",
    "## Open file, page source\n",
    "file = open(\"deal.htm\", \"w\") # Save to file\n",
    "\n",
    "## Write to File, page source\n",
    "file.write(deal) \n",
    "\n",
    "## Close File \n",
    "file.close() \n",
    "\n",
    "time.sleep(10) # 10 second pause\n",
    "\n",
    "## Quit \n",
    "driver.quit() "
   ]
  },
  {
   "cell_type": "markdown",
   "id": "8f1428f3",
   "metadata": {},
   "source": [
    "## (3)  Since you all love Lavazza coffee:  \n",
    "1. Write a script that goes to lavazzausa.com, rejects all cookies, then\n",
    "2. clicks on \"Products\", then\n",
    "3. clicks on \"Capsule coffee machines\",\n",
    "4. save the resulting page to the file \"lavazza.htm\", and close the browser.\n",
    "\n",
    "Subsequently, write code that opens the saved \"lavazza.htm\" file and finds the original price of the \"Classy Plus Bundle\" and prints it to the screen (please use BeautifulSoup for this)."
   ]
  },
  {
   "cell_type": "code",
   "execution_count": 37,
   "id": "12f2d96d",
   "metadata": {},
   "outputs": [],
   "source": [
    "## Goes to Lavazzausa\n",
    "driver = webdriver.Chrome() # Driver # Necessary\n",
    "\n",
    "driver.maximize_window()  # Fullscreen \n",
    "\n",
    "driver.get(\"https://www.lavazzausa.com/\") # Website\n",
    "\n",
    "time.sleep(5) # 5 second pause\n",
    "\n",
    "## Reject the cookies \n",
    "input = driver.find_element(By.CSS_SELECTOR, 'div[id = \"consent_prompt_reject\"]') # rejet (best to use ID)\n",
    "input.click() # Click\n",
    "\n",
    "time.sleep(5) # 5 second pause \n",
    "\n",
    "## Select the products\n",
    "input = driver.find_element(By.CSS_SELECTOR, 'a[id=\"PRODUCTS\"]') # products (best to use ID)\n",
    "\n",
    "input.click() # Click\n",
    "                            \n",
    "time.sleep(5) # 5 second pause\n",
    "\n",
    "## Select Capsule coffee machines\n",
    "input = driver.find_element(By.CSS_SELECTOR, 'a[data-analytics=\"link_click=menu|PRODUCTS:Capsule coffee machines\"]') # products (best to use ID)\n",
    "\n",
    "input.click() # Click\n",
    "\n",
    "time.sleep(5) # 5 second pause\n",
    "\n",
    "## Save ##\n",
    "## Page Source\n",
    "lavazza = driver.page_source \n",
    "\n",
    "time.sleep(5) # 5 second pause\n",
    "\n",
    "## Open page source\n",
    "file = open(\"lavazza.htm\", \"w\", encoding = 'utf-8') # Save to file\n",
    "\n",
    "## Write to file, page source \n",
    "file.write(lavazza) \n",
    "\n",
    "## Close file\n",
    "file.close() \n",
    "\n",
    "time.sleep(10) # 10 second pause \n",
    "                            \n",
    "driver.quit() # Quit"
   ]
  },
  {
   "cell_type": "code",
   "execution_count": 38,
   "id": "5154745d",
   "metadata": {},
   "outputs": [],
   "source": [
    "## BeautifulSoup\n",
    "from bs4 import BeautifulSoup\n",
    "import requests"
   ]
  },
  {
   "cell_type": "code",
   "execution_count": 39,
   "id": "38216314",
   "metadata": {},
   "outputs": [
    {
     "name": "stdout",
     "output_type": "stream",
     "text": [
      "Original Price: $300.75\n"
     ]
    }
   ],
   "source": [
    "## open lavazza.htm\n",
    "file = open(\"lavazza.htm\", \"r\")\n",
    "htm = file.read()\n",
    "\n",
    "## Classy Plus bundle lvz-product-card__pricing--old lvz-product-card__pricing--old-centered\n",
    "soup = BeautifulSoup(htm, 'html.parser')\n",
    "\n",
    "## Find text \n",
    "original_price = soup.find('span', class_ = 'lvz-product-card__pricing--old lvz-product-card__pricing--old-centered').text  \n",
    "\n",
    "## print results\n",
    "print(f'Original Price: {original_price}')\n"
   ]
  },
  {
   "cell_type": "code",
   "execution_count": null,
   "id": "7ba14645",
   "metadata": {},
   "outputs": [],
   "source": []
  }
 ],
 "metadata": {
  "kernelspec": {
   "display_name": "Python 3 (ipykernel)",
   "language": "python",
   "name": "python3"
  },
  "language_info": {
   "codemirror_mode": {
    "name": "ipython",
    "version": 3
   },
   "file_extension": ".py",
   "mimetype": "text/x-python",
   "name": "python",
   "nbconvert_exporter": "python",
   "pygments_lexer": "ipython3",
   "version": "3.8.19"
  }
 },
 "nbformat": 4,
 "nbformat_minor": 5
}
